{
  "nbformat": 4,
  "nbformat_minor": 0,
  "metadata": {
    "colab": {
      "name": "Getting_Started_With_requests.ipynb",
      "provenance": [],
      "collapsed_sections": []
    },
    "kernelspec": {
      "name": "python3",
      "display_name": "Python 3"
    }
  },
  "cells": [
    {
      "cell_type": "markdown",
      "metadata": {
        "id": "A-neUM4Z3y7s",
        "colab_type": "text"
      },
      "source": [
        "Installing the requests library\n"
      ]
    },
    {
      "cell_type": "code",
      "metadata": {
        "id": "l1Eu-_1h34hK",
        "colab_type": "code",
        "colab": {
          "base_uri": "https://localhost:8080/",
          "height": 102
        },
        "outputId": "92d30ada-88fc-47c0-d90c-b1adba63ffc4"
      },
      "source": [
        "pip install requests"
      ],
      "execution_count": null,
      "outputs": [
        {
          "output_type": "stream",
          "text": [
            "Requirement already satisfied: requests in /usr/local/lib/python3.6/dist-packages (2.23.0)\n",
            "Requirement already satisfied: chardet<4,>=3.0.2 in /usr/local/lib/python3.6/dist-packages (from requests) (3.0.4)\n",
            "Requirement already satisfied: urllib3!=1.25.0,!=1.25.1,<1.26,>=1.21.1 in /usr/local/lib/python3.6/dist-packages (from requests) (1.24.3)\n",
            "Requirement already satisfied: idna<3,>=2.5 in /usr/local/lib/python3.6/dist-packages (from requests) (2.9)\n",
            "Requirement already satisfied: certifi>=2017.4.17 in /usr/local/lib/python3.6/dist-packages (from requests) (2020.4.5.2)\n"
          ],
          "name": "stdout"
        }
      ]
    },
    {
      "cell_type": "code",
      "metadata": {
        "id": "jiSVFCNy4AtX",
        "colab_type": "code",
        "colab": {}
      },
      "source": [
        "#Importing requests looks like this\n",
        "import requests"
      ],
      "execution_count": null,
      "outputs": []
    },
    {
      "cell_type": "markdown",
      "metadata": {
        "id": "kibzRNeP41LI",
        "colab_type": "text"
      },
      "source": [
        "\n",
        " One of the most common HTTP methods is GET. The GET method indicates that you’re trying to get or retrieve data from a specified resource"
      ]
    },
    {
      "cell_type": "code",
      "metadata": {
        "id": "AUrfP0pr5Qu9",
        "colab_type": "code",
        "colab": {}
      },
      "source": [
        "response =requests.get('https://www.python.org/')"
      ],
      "execution_count": null,
      "outputs": []
    },
    {
      "cell_type": "markdown",
      "metadata": {
        "id": "vwXWjB_X6Pwl",
        "colab_type": "text"
      },
      "source": [
        "**Status Codes**\n",
        "\n",
        "A status code informs you of the status of the request\n",
        "\n",
        "\n"
      ]
    },
    {
      "cell_type": "code",
      "metadata": {
        "id": "F5iNyIdt5r6U",
        "colab_type": "code",
        "colab": {}
      },
      "source": [
        "response.status_code\n",
        "#a 200 OK status means that your request was successful, whereas a 404 NOT FOUND"
      ],
      "execution_count": null,
      "outputs": []
    },
    {
      "cell_type": "code",
      "metadata": {
        "id": "sGi2OYdM7cAZ",
        "colab_type": "code",
        "colab": {}
      },
      "source": [
        ""
      ],
      "execution_count": null,
      "outputs": []
    },
    {
      "cell_type": "markdown",
      "metadata": {
        "id": "0EEZp14L7cwl",
        "colab_type": "text"
      },
      "source": [
        "**Content**\n",
        "\n",
        "The response of a GET request often has some valuable information"
      ]
    },
    {
      "cell_type": "code",
      "metadata": {
        "id": "Ev7ECy_S7mMo",
        "colab_type": "code",
        "colab": {}
      },
      "source": [
        "response.content"
      ],
      "execution_count": null,
      "outputs": []
    },
    {
      "cell_type": "markdown",
      "metadata": {
        "id": "I0IntgL675rm",
        "colab_type": "text"
      },
      "source": [
        "While .content gives you access to the raw bytes of the response payload, you will often want to convert them into a string using a character encoding such as UTF-8. response will do that for you when you access .text:\n"
      ]
    },
    {
      "cell_type": "code",
      "metadata": {
        "id": "QsMmEEYZ78za",
        "colab_type": "code",
        "colab": {}
      },
      "source": [
        "response.text"
      ],
      "execution_count": null,
      "outputs": []
    },
    {
      "cell_type": "code",
      "metadata": {
        "id": "2nv49He163oP",
        "colab_type": "code",
        "colab": {}
      },
      "source": [
        "if response.status_code == 200:\n",
        "    print('Success!')\n",
        "    print(\"Content\",response.content)\n",
        "    print(\"convert it into a string\",response.text)\n",
        "elif response.status_code == 404:\n",
        "    print('Not Found.')"
      ],
      "execution_count": null,
      "outputs": []
    },
    {
      "cell_type": "markdown",
      "metadata": {
        "id": "X03zlE75C0z_",
        "colab_type": "text"
      },
      "source": [
        "\n",
        "\n",
        "---\n",
        "\n",
        "\n",
        "\n",
        "---\n",
        "\n"
      ]
    },
    {
      "cell_type": "markdown",
      "metadata": {
        "id": "WEk5dpzXC49j",
        "colab_type": "text"
      },
      "source": [
        "**Web scraping and parsing with Beautiful Soup 4**"
      ]
    },
    {
      "cell_type": "code",
      "metadata": {
        "id": "tySZr5m0C8s3",
        "colab_type": "code",
        "colab": {}
      },
      "source": [
        "import bs4 as bs\n",
        "import urllib.request\n",
        "#we need to import Beautiful Soup and urllib\n",
        "source = urllib.request.urlopen('https://www.python.org/').read()\n"
      ],
      "execution_count": 1,
      "outputs": []
    },
    {
      "cell_type": "code",
      "metadata": {
        "id": "C3Sw75GfDZ6B",
        "colab_type": "code",
        "colab": {}
      },
      "source": [
        "soup = bs.BeautifulSoup(source,'lxml')\n",
        "#Then create the \"soup.\" This is a beautiful soup object"
      ],
      "execution_count": 3,
      "outputs": []
    },
    {
      "cell_type": "code",
      "metadata": {
        "id": "k2cq7L8fEX4p",
        "colab_type": "code",
        "colab": {
          "base_uri": "https://localhost:8080/",
          "height": 122
        },
        "outputId": "58a60897-1486-45f4-98b7-72348013beb8"
      },
      "source": [
        "# title of the page\n",
        "print(soup.title)\n",
        "\n",
        "# get attributes:\n",
        "print(soup.title.name)\n",
        "\n",
        "# get values:\n",
        "print(soup.title.string)\n",
        "\n",
        "# beginning navigation:\n",
        "print(soup.title.parent.name)\n",
        "\n",
        "# getting specific values:\n",
        "print(soup.p)"
      ],
      "execution_count": 4,
      "outputs": [
        {
          "output_type": "stream",
          "text": [
            "<title>Welcome to Python.org</title>\n",
            "title\n",
            "Welcome to Python.org\n",
            "head\n",
            "<p><strong>Notice:</strong> While Javascript is not essential for this website, your interaction with the content will be limited. Please turn Javascript on for the full experience. </p>\n"
          ],
          "name": "stdout"
        }
      ]
    },
    {
      "cell_type": "code",
      "metadata": {
        "id": "ylV8H_LrEh2H",
        "colab_type": "code",
        "colab": {}
      },
      "source": [
        " #find all p\n",
        "print(soup.find_all('p'))"
      ],
      "execution_count": null,
      "outputs": []
    },
    {
      "cell_type": "code",
      "metadata": {
        "id": "UmNuvXs4FuMl",
        "colab_type": "code",
        "colab": {}
      },
      "source": [
        "list_of_p=soup.find_all('p')#To print the text\n",
        "for pr in list_of_p:\n",
        "  print(pr.text)"
      ],
      "execution_count": null,
      "outputs": []
    },
    {
      "cell_type": "code",
      "metadata": {
        "id": "Q-R7Ryc2FMsy",
        "colab_type": "code",
        "colab": {}
      },
      "source": [
        " #find all links\n",
        "soup.find_all('a')"
      ],
      "execution_count": null,
      "outputs": []
    },
    {
      "cell_type": "code",
      "metadata": {
        "id": "gLvXWp_bFcQu",
        "colab_type": "code",
        "colab": {}
      },
      "source": [
        "list_of_links=soup.find_all('a')#To print the links\n",
        "for link in list_of_links:\n",
        "  print(link.get('href'))"
      ],
      "execution_count": null,
      "outputs": []
    }
  ]
}